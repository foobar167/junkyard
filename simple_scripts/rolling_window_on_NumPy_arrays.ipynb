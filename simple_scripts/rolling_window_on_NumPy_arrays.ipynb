{
  "nbformat": 4,
  "nbformat_minor": 0,
  "metadata": {
    "colab": {
      "name": "Rolling window on NumPy arrays.ipynb",
      "provenance": [],
      "collapsed_sections": [],
      "toc_visible": true
    },
    "kernelspec": {
      "name": "python3",
      "display_name": "Python 3"
    },
    "accelerator": "GPU"
  },
  "cells": [
    {
      "cell_type": "markdown",
      "metadata": {
        "id": "fXwLF7pC0LEr",
        "colab_type": "text"
      },
      "source": [
        "# Rolling window on NumPy arrays without `for` loops\n",
        "\n",
        "[Self-link](https://colab.research.google.com/drive/1Zru_-zzbtylgitbwxbi0eDBNhwr8qYl6)\n",
        "\n",
        "**Disclaimer**: *author could be wrong!* If you see the error, please, write me at [foobar167@gmail.com](mailto:foobar167@gmail.com?subject=%20Rolling%20window%20error).\n",
        "\n",
        "It is possible to implement a rolling window for NumPy arrays and images *without explicit cycles* in Python. As a result the speed of a such rolling window will be comparable to the speed of **C** programming language. Because NumPy library is implemented in the **C** programming language. It is in several thousand times faster than explicit Python `for` cycles.\n",
        "\n",
        "  00. [Introduction](#introduction)\n",
        "  00. [Rolling 1D window for ND array in Numpy](#1d)\n",
        "  00. [Rolling 2D window for ND array in Numpy](#2d)\n",
        "  00. [Rolling 3D window for ND array in Numpy](#3d)\n",
        "  00. [Rolling MD window for ND array, where M ≤ N](#md)\n",
        "  00. [Rolling MD window for ND array for any M and N](#md-extended)\n",
        "\n",
        "  ![Rolling 3D window for ND array in Numpy](https://raw.githubusercontent.com/foobar167/articles/master/Machine_Learning/rolling_window_on_numpy_arrays/data/2020.02.24-rolling-window-3d.png)"
      ]
    },
    {
      "cell_type": "markdown",
      "metadata": {
        "id": "0JT4s4tn9Gi1",
        "colab_type": "text"
      },
      "source": [
        "## <a name=\"introduction\">Introduction</a>\n",
        "This article is an extension of [my answer](https://stackoverflow.com/a/46237736/7550928) on the StackOverflow. My first experiments with the rolling window are [here](https://github.com/foobar167/junkyard/blob/master/rolling_window.py) and [here](https://github.com/foobar167/junkyard/blob/master/rolling_window_advanced.py).\n",
        "\n",
        "**Practical implementation** of the rolling 2D window for 2D array in NumPy is in the `roll` function of the [`logic_tools.py`](https://github.com/foobar167/junkyard/blob/master/manual_image_annotation1/polygon/logic_tools.py) file of the [Manual image annotation with polygons](https://github.com/foobar167/junkyard/tree/master/manual_image_annotation1) project.\n",
        "\n",
        "Basics rolling window technique for 1D array is already explained [here](https://stackoverflow.com/a/7100681/7550928), [here](https://rigtorp.se/2011/01/01/rolling-statistics-numpy.html) and [here](https://stackoverflow.com/questions/6811183/rolling-window-for-1d-arrays-in-numpy).\n",
        "\n",
        "To understand the topic, you must know what [strides](https://stackoverflow.com/a/53099870/7550928) are."
      ]
    },
    {
      "cell_type": "code",
      "metadata": {
        "id": "fSv9C3X85kmJ",
        "colab_type": "code",
        "colab": {}
      },
      "source": [
        "# Import necessary libraries\n",
        "import numpy as np"
      ],
      "execution_count": 0,
      "outputs": []
    },
    {
      "cell_type": "markdown",
      "metadata": {
        "id": "MyPodYXF2G13",
        "colab_type": "text"
      },
      "source": [
        "## <a name=\"1d\" />1. Rolling 1D window for ND array in Numpy\n",
        "![Rolling 1D window for ND array in Numpy](https://raw.githubusercontent.com/foobar167/articles/master/Machine_Learning/rolling_window_on_numpy_arrays/data/2020.02.21-rolling-window-1d.png)"
      ]
    },
    {
      "cell_type": "code",
      "metadata": {
        "id": "7LscpiwP0Eb0",
        "colab_type": "code",
        "colab": {}
      },
      "source": [
        "# Rolling 1D window for ND array\n",
        "def roll(a,      # ND array\n",
        "         b,      # rolling 1D window array\n",
        "         dx=1):  # step size (horizontal)\n",
        "    shape = a.shape[:-1] + (int((a.shape[-1] - b.shape[-1]) / dx) + 1,) + b.shape\n",
        "    strides = a.strides[:-1] + (a.strides[-1] * dx,) + a.strides[-1:]\n",
        "    return np.lib.stride_tricks.as_strided(a, shape=shape, strides=strides)"
      ],
      "execution_count": 0,
      "outputs": []
    },
    {
      "cell_type": "markdown",
      "metadata": {
        "id": "fJ5z8nGPFLxB",
        "colab_type": "text"
      },
      "source": [
        "There are 2 major things for newly created array: **shape** and **strides**. Shape of the new array is created via shape of the input ND array and shape of the rolling 1D window. While strides are created only via strides of the input ND array (without rolling window).\n",
        "\n",
        "Step size of the rolling window **dx** is equal to 1, 2, 3, etc. and always horizontal for 1D rolling window.\n",
        "\n",
        "*Shape* consists from 3 terms:\n",
        "  * `a.shape[:-1]` is the array shape remainder for ND arrays where `N > 1`. For `N == 1` array remainder will be equal to empty tuple `t == ()`, so it is not necessary for `N == 1`.\n",
        "  * `(int((a.shape[-1] - b.shape[-1]) / dx) + 1,)` is the number of steps of the rolling 1D window over last dimension of the ND array.\n",
        "  * `b.shape` is the shape of the rolling window.\n",
        "\n",
        "*Strides* also consist from 3 terms:\n",
        "  * `a.strides[:-1]` is the array strides remainder for ND array where `N > 1`. For `N == 1` array remainder will be equal to empty tuple `t == ()`, so it is not necessary for `N == 1`.\n",
        "  * `(a.strides[-1] * dx,)` is the number of bytes between steps of the rolling window. For example, `int` array has 4 bytes stride between neighbour elements, so for step `dx == 2` it should be `4 * 2 = 8` bytes between steps of the rolling window.\n",
        "  * `(a.strides[-1],)` is the stride between neighbour elements of the input ND array. For example, for `int` it should be equal 4 bytes or tuple `(4,)`.\n",
        "\n",
        "  Function [`numpy.lib.stride_tricks.as_strided`](https://docs.scipy.org/doc/numpy-1.13.0/reference/generated/numpy.lib.stride_tricks.as_strided.html) creates a view into the array with the given shape and strides."
      ]
    },
    {
      "cell_type": "code",
      "metadata": {
        "id": "XyNRV0Rq5bp4",
        "colab_type": "code",
        "outputId": "c405d3c6-6856-43b2-d6fd-7277284dc0ad",
        "colab": {
          "base_uri": "https://localhost:8080/",
          "height": 348
        }
      },
      "source": [
        "# Tests\n",
        "def show_results(a, b, dx=1):\n",
        "    axis = a.ndim  # number of dimensions\n",
        "    bool_array = np.all(roll(a, b, dx) == b, axis=axis)\n",
        "    counts = np.count_nonzero(bool_array)\n",
        "    coords = np.transpose(np.nonzero(bool_array)) * [1, dx]\n",
        "    print(\"Found {counts} elements with coordinates:\\n{coords}\".format(\n",
        "        counts=counts, coords=coords))\n",
        "\n",
        "a = np.array([[ 0,  1,  2,  3,  4,  5],\n",
        "              [ 7,  8,  7,  8, 10, 11],\n",
        "              [13, 14, 13, 14,  7,  8],\n",
        "              [19, 20, 19, 20, 13, 14],\n",
        "              [24, 25, 26, 27, 19, 20]], dtype=np.int)\n",
        "\n",
        "# Should find: 3 elements if dx == 1 or dx == 2\n",
        "#              1 element  if dx == 3\n",
        "#              2 elements if dx == 4\n",
        "b1 = np.array([7, 8], dtype=np.int)\n",
        "show_results(a, b1)\n",
        "show_results(a, b1, 2)\n",
        "show_results(a, b1, 3)\n",
        "show_results(a, b1, 4)\n",
        "\n",
        "# Should find: 1 element  if dx == 1\n",
        "#              0 elements if dx == 2\n",
        "b2 = np.array([8, 7], dtype=np.int)\n",
        "print(\"----------\")\n",
        "show_results(a, b2)\n",
        "show_results(a, b2, 2)"
      ],
      "execution_count": 3,
      "outputs": [
        {
          "output_type": "stream",
          "text": [
            "Found 3 elements with coordinates:\n",
            "[[1 0]\n",
            " [1 2]\n",
            " [2 4]]\n",
            "Found 3 elements with coordinates:\n",
            "[[1 0]\n",
            " [1 2]\n",
            " [2 4]]\n",
            "Found 1 elements with coordinates:\n",
            "[[1 0]]\n",
            "Found 2 elements with coordinates:\n",
            "[[1 0]\n",
            " [2 4]]\n",
            "----------\n",
            "Found 1 elements with coordinates:\n",
            "[[1 1]]\n",
            "Found 0 elements with coordinates:\n",
            "[]\n"
          ],
          "name": "stdout"
        }
      ]
    },
    {
      "cell_type": "markdown",
      "metadata": {
        "id": "R7GoWaxG2RpX",
        "colab_type": "text"
      },
      "source": [
        "## <a name=\"2d\" />2. Rolling 2D window for ND array in Numpy\n",
        "![Rolling 2D window for ND array in Numpy](https://raw.githubusercontent.com/foobar167/articles/master/Machine_Learning/rolling_window_on_numpy_arrays/data/2020.02.24-rolling-window-2d.png)\n",
        "\n",
        "Implementation examples of the rolling 2D window for 2D array are:\n",
        "  * find smaller subimage in the bigger image;\n",
        "  * do a convolution operation in the artificial neural network;\n",
        "  * apply filter of the artificial neural network or of the classical algorithm (Sobel, Gaussian or Blur filter) to the image.\n",
        "\n",
        "In general it allows to make a *periodic operations* (comparison, convolution, subtraction, multiplication, some filter application, etc.) on a submatrix with some step size."
      ]
    },
    {
      "cell_type": "code",
      "metadata": {
        "id": "tXDRG-5-2jBV",
        "colab_type": "code",
        "colab": {}
      },
      "source": [
        "# Rolling 2D window for ND array\n",
        "def roll(a,      # ND array\n",
        "         b,      # rolling 2D window array\n",
        "         dx=1,   # horizontal step, abscissa, number of columns\n",
        "         dy=1):  # vertical step, ordinate, number of rows\n",
        "    shape = a.shape[:-2] + \\\n",
        "            ((a.shape[-2] - b.shape[-2]) // dy + 1,) + \\\n",
        "            ((a.shape[-1] - b.shape[-1]) // dx + 1,) + \\\n",
        "            b.shape  # sausage-like shape with 2D cross-section\n",
        "    strides = a.strides[:-2] + \\\n",
        "              (a.strides[-2] * dy,) + \\\n",
        "              (a.strides[-1] * dx,) + \\\n",
        "              a.strides[-2:]\n",
        "    return np.lib.stride_tricks.as_strided(a, shape=shape, strides=strides)"
      ],
      "execution_count": 0,
      "outputs": []
    },
    {
      "cell_type": "markdown",
      "metadata": {
        "id": "eTz398gz88DF",
        "colab_type": "text"
      },
      "source": [
        "There are also shape and strides like in [section one](#1d), but for rolling 2D window.\n",
        "\n",
        "*Shape* consists from 4 terms: 3 terms like in [section one](#1d) and the 4th term is the number of vertical steps `((a.shape[-2] - b.shape[-2]) // dy + 1,)` of the rolling 2D window.\n",
        "\n",
        "Here we replaced:\n",
        "```python\n",
        "    (int((a.shape[-1] - b.shape[-1]) / dx) + 1,)\n",
        "```\n",
        "\n",
        "with\n",
        "\n",
        "```python\n",
        "    ((a.shape[-1] - b.shape[-1]) // dx + 1,)\n",
        "```\n",
        "because these two expressions are equivalent.\n",
        "\n",
        "*Strides* are also similar to [section one](#1d), but with additional stride `(a.strides[-2] * dy,)` for vertical step of the rolling 2D window.\n"
      ]
    },
    {
      "cell_type": "code",
      "metadata": {
        "id": "aNxyiRgu52Xv",
        "colab_type": "code",
        "outputId": "ce965abb-0d07-4899-c185-719451c3b4f0",
        "colab": {
          "base_uri": "https://localhost:8080/",
          "height": 348
        }
      },
      "source": [
        "# Tests\n",
        "def show_results(a, b, dx=1, dy=1):\n",
        "    n = a.ndim  # number of dimensions\n",
        "    # np.all over 2 dimensions of the rolling 2D window for 4D array\n",
        "    bool_array = np.all(roll(a, b, dx, dy) == b, axis=(n, n+1))\n",
        "    counts = np.count_nonzero(bool_array)\n",
        "    coords = np.transpose(np.nonzero(bool_array)) * [dy, dx]\n",
        "    print(\"Found {counts} elements with coordinates:\\n{coords}\".format(\n",
        "        counts=counts, coords=coords))\n",
        "\n",
        "a = np.array([[ 0,  1,  2,  3,  4,  5],\n",
        "              [ 7,  8,  7,  8, 10, 11],\n",
        "              [13, 14, 13, 14,  7,  8],\n",
        "              [19, 20, 19, 20, 13, 14],\n",
        "              [24, 25, 26, 27, 19, 20]], dtype=np.int)\n",
        "\n",
        "# Should find: 3 elements if dx == 1 or dx == 2\n",
        "#              1 element  if dx == 1 and dy == 2\n",
        "#              2 elements if dx == 4\n",
        "b1 = np.array([[ 7,  8],\n",
        "               [13, 14]], dtype=np.int)\n",
        "show_results(a, b1)\n",
        "show_results(a, b1, 2)\n",
        "show_results(a, b1, 1, 2)\n",
        "show_results(a, b1, 4)\n",
        "\n",
        "# Should find: 1 element  if dx == 1\n",
        "#              0 elements if dx == 2\n",
        "b2 = np.array([[ 8,  7],\n",
        "               [14, 13]], dtype=np.int)\n",
        "print(\"----------\")\n",
        "show_results(a, b2)\n",
        "show_results(a, b2, 2)"
      ],
      "execution_count": 5,
      "outputs": [
        {
          "output_type": "stream",
          "text": [
            "Found 3 elements with coordinates:\n",
            "[[1 0]\n",
            " [1 2]\n",
            " [2 4]]\n",
            "Found 3 elements with coordinates:\n",
            "[[1 0]\n",
            " [1 2]\n",
            " [2 4]]\n",
            "Found 1 elements with coordinates:\n",
            "[[2 4]]\n",
            "Found 2 elements with coordinates:\n",
            "[[1 0]\n",
            " [2 4]]\n",
            "----------\n",
            "Found 1 elements with coordinates:\n",
            "[[1 1]]\n",
            "Found 0 elements with coordinates:\n",
            "[]\n"
          ],
          "name": "stdout"
        }
      ]
    },
    {
      "cell_type": "markdown",
      "metadata": {
        "id": "Wxu45czL2kbv",
        "colab_type": "text"
      },
      "source": [
        "## <a name=\"3d\" />3. Rolling 3D window for ND array in Numpy\n",
        "![Rolling 3D window for ND array in Numpy](https://raw.githubusercontent.com/foobar167/articles/master/Machine_Learning/rolling_window_on_numpy_arrays/data/2020.02.24-rolling-window-3d.png)\n",
        "\n",
        "You can see the pattern for 1D and 2D rolling window. It is difficult to understand the algorithm in higher dimensions, however it is possible to implement rolling 3D window for ND array in NumPy according to the pattern and then test it.\n",
        "\n",
        "With this practical implementation you can apply voxels over 3D image."
      ]
    },
    {
      "cell_type": "code",
      "metadata": {
        "id": "7N9xRHt32mls",
        "colab_type": "code",
        "colab": {}
      },
      "source": [
        "# Rolling 3D window for ND array\n",
        "def roll(a,      # ND array\n",
        "         b,      # rolling 2D window array\n",
        "         dx=1,   # horizontal step, abscissa, number of columns\n",
        "         dy=1,   # vertical step, ordinate, number of rows\n",
        "         dz=1):  # transverse step, applicate, number of layers\n",
        "    shape = a.shape[:-3] + \\\n",
        "            ((a.shape[-3] - b.shape[-3]) // dz + 1,) + \\\n",
        "            ((a.shape[-2] - b.shape[-2]) // dy + 1,) + \\\n",
        "            ((a.shape[-1] - b.shape[-1]) // dx + 1,) + \\\n",
        "            b.shape  # multidimensional \"sausage\" with 3D cross-section\n",
        "    strides = a.strides[:-3] + \\\n",
        "              (a.strides[-3] * dz,) + \\\n",
        "              (a.strides[-2] * dy,) + \\\n",
        "              (a.strides[-1] * dx,) + \\\n",
        "              a.strides[-3:]\n",
        "    #print('shape =', shape, \" strides =\", strides)  # for debugging\n",
        "    return np.lib.stride_tricks.as_strided(a, shape=shape, strides=strides)"
      ],
      "execution_count": 0,
      "outputs": []
    },
    {
      "cell_type": "code",
      "metadata": {
        "id": "ZrR91x5456Gp",
        "colab_type": "code",
        "outputId": "15dcb85c-a8c8-41c1-e458-7c9a631fba4f",
        "colab": {
          "base_uri": "https://localhost:8080/",
          "height": 311
        }
      },
      "source": [
        "# Tests\n",
        "def show_results(a, b, dx=1, dy=1, dz=1):\n",
        "    n = a.ndim  # number of dimensions == 3\n",
        "    # np.all over 3 dimensions of the rolling 3D window for 6D array\n",
        "    bool_array = np.all(roll(a, b, dx, dy, dz) == b, axis=(n, n+1, n+2))\n",
        "    counts = np.count_nonzero(bool_array)\n",
        "    coords = np.transpose(np.nonzero(bool_array)) * [dz, dy, dx]\n",
        "    print(\"Found {counts} elements with coordinates:\\n{coords}\".format(\n",
        "        counts=counts, coords=coords))\n",
        "\n",
        "a = np.array([[[ 0,  1,  2,  3,  4,  5],\n",
        "               [ 7,  8,  7,  8, 10, 11],\n",
        "               [13, 14, 13, 14,  7,  8],\n",
        "               [19, 20, 19, 20, 13, 14],\n",
        "               [24, 25, 26, 27, 19, 20]],\n",
        "\n",
        "              [[ 1,  1,  1,  1,  1,  1],\n",
        "               [ 2,  2,  2,  2,  2,  2],\n",
        "               [ 3,  3,  3,  3,  2,  2],\n",
        "               [ 4,  7,  8,  4,  3,  3],\n",
        "               [ 5, 13, 14,  5,  5,  5]],\n",
        "\n",
        "              [[ 1,  1,  1,  1,  1,  1],\n",
        "               [ 2,  2,  2,  2,  2,  2],\n",
        "               [ 3,  3,  3,  3,  3,  3],\n",
        "               [ 4,  2,  2,  4,  4,  4],\n",
        "               [ 5,  3,  3,  5,  5,  5]],], dtype=np.int)\n",
        "\n",
        "# Should find: 4 elements if dx == 1, dy == 1, dz == 1 \n",
        "#              3 elements if dx == 2, dy == 1, dz == 1\n",
        "#              1 element  if dx == 1, dy == 3, dz == 1\n",
        "b1 = np.array([[[ 7,  8],  [13, 14]],\n",
        "               [[ 2,  2],  [ 3,  3]]], dtype=np.int)\n",
        "show_results(a, b1)\n",
        "show_results(a, b1, 2, 1, 1)\n",
        "show_results(a, b1, 1, 3, 1)\n",
        "\n",
        "# Should find: 1 element  if dx == 1\n",
        "#              0 elements if dx == 2\n",
        "b2 = np.array([[[ 8,  7],  [14, 13]],\n",
        "               [[ 2,  2],  [ 3,  3]]], dtype=np.int)\n",
        "print(\"----------\")\n",
        "show_results(a, b2)\n",
        "show_results(a, b2, 2)"
      ],
      "execution_count": 7,
      "outputs": [
        {
          "output_type": "stream",
          "text": [
            "Found 4 elements with coordinates:\n",
            "[[0 1 0]\n",
            " [0 1 2]\n",
            " [0 2 4]\n",
            " [1 3 1]]\n",
            "Found 3 elements with coordinates:\n",
            "[[0 1 0]\n",
            " [0 1 2]\n",
            " [0 2 4]]\n",
            "Found 1 elements with coordinates:\n",
            "[[1 3 1]]\n",
            "----------\n",
            "Found 1 elements with coordinates:\n",
            "[[0 1 1]]\n",
            "Found 0 elements with coordinates:\n",
            "[]\n"
          ],
          "name": "stdout"
        }
      ]
    },
    {
      "cell_type": "markdown",
      "metadata": {
        "id": "tKlbm2gQ4q5A",
        "colab_type": "text"
      },
      "source": [
        "## <a name=\"md\" />4. Rolling MD window for ND array, where M ≤ N\n",
        "Generalize the `roll` function for rolling MD window over ND array, where M ≤ N.\n",
        "\n",
        "![Rolling MD window for ND array](https://raw.githubusercontent.com/foobar167/articles/master/Machine_Learning/rolling_window_on_numpy_arrays/data/2020.02.24-rolling-window-md.png)"
      ]
    },
    {
      "cell_type": "code",
      "metadata": {
        "id": "xEvD6pdG46IO",
        "colab_type": "code",
        "colab": {}
      },
      "source": [
        "# Rolling MD window for ND array\n",
        "def roll(a,        # ND array\n",
        "         b,        # rolling MD window array\n",
        "         d=None):  # steps array\n",
        "\n",
        "    # Make several verifications\n",
        "    n = a.ndim  # array dimensions\n",
        "    m = b.ndim  # rolling window dimensions\n",
        "    if m > n:  # check if M ≤ N\n",
        "        print(\"Error: rolling window dimensions is larger than the array dims\")\n",
        "        return None\n",
        "    if d is None:  # steps are equal to 1 by default\n",
        "        d = np.ones(m, dtype=np.uint32)\n",
        "    elif d.ndim != 1 and d.size != m:\n",
        "        print(\"Error: steps number must be equal to rolling window dimensions\")\n",
        "        return None\n",
        "    elif not np.issubdtype(d.dtype, np.integer) or \\\n",
        "         not (d > 0).all():\n",
        "        print(\"Error: steps must be integer and > 0\")\n",
        "        return None\n",
        "\n",
        "    s = np.flip(d)  # flip the 1D array of step sizes\n",
        "    sub = np.subtract(a.shape[-m:], b.shape[-m:])\n",
        "    steps = tuple(np.divide(sub, s).astype(np.uint32) + 1)\n",
        "    shape = a.shape[:-m] + steps + b.shape\n",
        "\n",
        "    section = tuple(np.multiply(a.strides[-m:], s))\n",
        "    strides = a.strides[:-m] + section + a.strides[-m:]\n",
        "\n",
        "    #print('shape =', shape, \" strides =\", strides)  # for debugging\n",
        "    return np.lib.stride_tricks.as_strided(a, shape=shape, strides=strides)"
      ],
      "execution_count": 0,
      "outputs": []
    },
    {
      "cell_type": "markdown",
      "metadata": {
        "id": "MqzYxaQ4fbBh",
        "colab_type": "text"
      },
      "source": [
        "The non-trivial (non-verifying) parts of the `roll` function are as follows:\n",
        "  * `steps = tuple(np.divide(sub, s).astype(np.uint32) + 1)` — calculate steps number of the rolling window in the multidimensional array.\n",
        "  * `section = tuple(np.multiply(a.strides[-m:], s))` — calculate strides section for multidimensional \"sausage\".\n",
        "  * Create that multidimensional \"sausage\" inserting this `section` into ND array: `strides = a.strides[:-m] + section + a.strides[-m:]`.\n"
      ]
    },
    {
      "cell_type": "code",
      "metadata": {
        "id": "GBv9DKk96kzJ",
        "colab_type": "code",
        "outputId": "517f45a1-5cb0-4590-ceaf-128a500b7eb2",
        "colab": {
          "base_uri": "https://localhost:8080/",
          "height": 403
        }
      },
      "source": [
        "# Tests\n",
        "def show_results(a, b, d=None):\n",
        "    n = a.ndim  # array number of dimensions == N\n",
        "    m = b.ndim  # rolling window dimensions == M\n",
        "    if d is None:  # step sizes are equal to 1 by default\n",
        "        d = np.ones(m, dtype=np.uint32)\n",
        "    bool_array = roll(a, b, d) == b  # get (N+M)D boolean array\n",
        "    # np.all over M dimensions of the rolling MD window for (N+M)D array\n",
        "    bool_array = np.all(bool_array, axis=tuple(range(n, n + m)))\n",
        "    counts = np.count_nonzero(bool_array)\n",
        "    # flip 1D array of step sizes and concatenate it with remaining dimensions\n",
        "    s = np.concatenate((np.ones(n-m, dtype=int), np.flip(d)))\n",
        "    coords = np.transpose(np.nonzero(bool_array)) * s\n",
        "    print(\"Found {counts} elements with coordinates:\\n{coords}\".format(\n",
        "        counts=counts, coords=coords))\n",
        "\n",
        "a = np.array([[[[ 1,  1,  1,  1,  1,  1],\n",
        "                [ 2,  2,  2,  2,  2,  2],\n",
        "                [ 3,  3,  3,  3,  2,  2],\n",
        "                [ 4,  4,  4,  4,  3,  3],\n",
        "                [ 5,  5,  5,  5,  5,  5]],\n",
        "\n",
        "               [[ 0,  1,  2,  3,  4,  5],\n",
        "                [ 7,  8,  7,  8, 10, 11],\n",
        "                [13, 14, 13, 14,  7,  8],\n",
        "                [19, 20, 19, 20, 13, 14],\n",
        "                [24, 25, 26, 27, 19, 20]],\n",
        "\n",
        "               [[ 1,  1,  1,  1,  1,  1],\n",
        "                [ 2,  2,  2,  2,  2,  2],\n",
        "                [ 3,  3,  3,  3,  2,  2],\n",
        "                [ 4,  7,  8,  4,  3,  3],\n",
        "                [ 5, 13, 14,  5,  5,  5]],\n",
        "\n",
        "               [[ 1,  1,  1,  1,  1,  1],\n",
        "                [ 2,  2,  2,  2,  2,  2],\n",
        "                [ 3,  3,  3,  3,  3,  3],\n",
        "                [ 4,  2,  2,  4,  4,  4],\n",
        "                [ 5,  3,  3,  5,  5,  5]]],\n",
        "\n",
        "              [[[ 0,  0,  0,  0,  0,  0],\n",
        "                [ 0,  0,  0,  0,  0,  0],\n",
        "                [ 0,  0,  0,  0,  0,  0],\n",
        "                [ 0,  0,  0,  0,  0,  0],\n",
        "                [ 0,  0,  0,  0,  0,  0]],\n",
        "\n",
        "               [[ 0,  0,  0,  0,  0,  0],\n",
        "                [ 0,  0,  0,  0,  0,  0],\n",
        "                [ 0,  0,  0,  0,  0,  0],\n",
        "                [ 0,  0,  0,  0,  0,  0],\n",
        "                [ 0,  0,  0,  0,  0,  0]],\n",
        "\n",
        "               [[ 0,  0,  0,  7,  8,  0],\n",
        "                [ 0,  0,  0, 13, 14,  0],\n",
        "                [ 0,  0,  0,  0,  0,  0],\n",
        "                [ 0,  0,  0,  0,  0,  0],\n",
        "                [ 0,  0,  0,  0,  0,  0]],\n",
        "\n",
        "               [[ 0,  0,  0,  2,  2,  0],\n",
        "                [ 0,  0,  0,  3,  3,  0],\n",
        "                [ 0,  0,  0,  0,  0,  0],\n",
        "                [ 0,  0,  0,  0,  0,  0],\n",
        "                [ 0,  0,  0,  0,  0,  0]]]], dtype=np.int)\n",
        "\n",
        "# Should find: 5 elements if dx == 1, dy == 1, dz == 1 \n",
        "#              3 elements if dx == 2, dy == 1, dz == 1\n",
        "#              2 elements if dx == 1, dy == 3, dz == 1\n",
        "#              2 elements if dx == 1, dy == 1, dz == 2\n",
        "b1 = np.array([[[ 7,  8],  [13, 14]],\n",
        "               [[ 2,  2],  [ 3,  3]]], dtype=np.int)\n",
        "show_results(a, b1)\n",
        "show_results(a, b1, np.array([2, 1, 1]))\n",
        "show_results(a, b1, np.array([1, 3, 1]))\n",
        "show_results(a, b1, np.array([1, 1, 2]))\n",
        "\n",
        "# Should find: 1 element  if dx == 1\n",
        "#              0 elements if dx == 2\n",
        "b2 = np.array([[[ 8,  7],  [14, 13]],\n",
        "               [[ 2,  2],  [ 3,  3]]], dtype=np.int)\n",
        "print(\"----------\")\n",
        "show_results(a, b2)\n",
        "show_results(a, b2, np.array([2, 1, 1]))"
      ],
      "execution_count": 9,
      "outputs": [
        {
          "output_type": "stream",
          "text": [
            "Found 5 elements with coordinates:\n",
            "[[0 1 1 0]\n",
            " [0 1 1 2]\n",
            " [0 1 2 4]\n",
            " [0 2 3 1]\n",
            " [1 2 0 3]]\n",
            "Found 3 elements with coordinates:\n",
            "[[0 1 1 0]\n",
            " [0 1 1 2]\n",
            " [0 1 2 4]]\n",
            "Found 2 elements with coordinates:\n",
            "[[0 2 3 1]\n",
            " [1 2 0 3]]\n",
            "Found 2 elements with coordinates:\n",
            "[[0 2 3 1]\n",
            " [1 2 0 3]]\n",
            "----------\n",
            "Found 1 elements with coordinates:\n",
            "[[0 1 1 1]]\n",
            "Found 0 elements with coordinates:\n",
            "[]\n"
          ],
          "name": "stdout"
        }
      ]
    },
    {
      "cell_type": "markdown",
      "metadata": {
        "id": "1QFepgSriAAB",
        "colab_type": "text"
      },
      "source": [
        "The non-trivial parts of the `show_results` function are as follows:\n",
        "  * Get boolean array `bool_array` or **mask** of the rolling window searches. Then apply [`numpy.all`](https://docs.scipy.org/doc/numpy/reference/generated/numpy.all.html) to all `M` dimensions to test whether all array elements along a given dimension evaluate to `True`. Note that `bool_array` is (N+M)D array, but `np.all` applies `m` times for MD array of the rolling window:\n",
        "\n",
        "```python\n",
        "    bool_array = roll(a, b, d) == b  # get (N+M)D boolean array\n",
        "    # np.all over M dimensions of the rolling MD window for (N+M)D array\n",
        "    bool_array = np.all(bool_array, axis=tuple(range(n, n + m)))\n",
        "```\n",
        "\n",
        "  * Another non-trivial part is for `M < N`. If `M < N` we should not only flip 1D array of step sizes, but to concatenate it with ones (step size is equal to 1) for remaining dimensions `N-M`. If `M == N` the remaining dimensions is 0, so in this case concatenation is not needed:\n",
        "\n",
        "```python\n",
        "    # flip 1D array of step sizes and concatenate it with remaining dimensions\n",
        "    s = np.concatenate((np.ones(n-m, dtype=int), np.flip(d)))\n",
        "```\n"
      ]
    },
    {
      "cell_type": "markdown",
      "metadata": {
        "id": "AiKxLHRm6mcn",
        "colab_type": "text"
      },
      "source": [
        "## <a name=\"md-extended\" />5. Rolling MD window for ND array for any M and N\n",
        "![Rolling MD window for ND array extended](https://raw.githubusercontent.com/foobar167/articles/master/Machine_Learning/rolling_window_on_numpy_arrays/data/2020.02.24-rolling-window-extended.png)\n",
        "\n",
        "Can we roll MD window over ND arrays, where M > N? Actually, we can, but only part of the rolling window which **intersects** with ND array.\n",
        "\n",
        "In other words lets find **common intersections** between MD and ND arrays.\n",
        "\n",
        "Implement a rolling MD window for ND array for any M and N. For this we use the previous `roll` and `show_results` functions.\n"
      ]
    },
    {
      "cell_type": "code",
      "metadata": {
        "id": "ZKhjUWIzBDg-",
        "colab_type": "code",
        "outputId": "ca20c08d-d0a8-401a-a462-162f842fe582",
        "colab": {
          "base_uri": "https://localhost:8080/",
          "height": 201
        }
      },
      "source": [
        "# Tests\n",
        "def get_results(a, b, d=None):  # the same as `show_results` function\n",
        "    n = a.ndim  # array number of dimensions == N\n",
        "    m = b.ndim  # rolling window dimensions == M\n",
        "    if d is None:  # step sizes are equal to 1 by default\n",
        "        d = np.ones(m, dtype=np.uint32)\n",
        "    bool_array = roll(a, b, d) == b  # get (N+M)D boolean array\n",
        "    # np.all over M dimensions of the rolling MD window for (N+M)D array\n",
        "    bool_array = np.all(bool_array, axis=tuple(range(n, n + m)))\n",
        "    counts = np.count_nonzero(bool_array)\n",
        "    # flip 1D array of step sizes and concatenate it with remaining dimensions\n",
        "    s = np.concatenate((np.ones(n-m, dtype=int), np.flip(d)))\n",
        "    coords = np.transpose(np.nonzero(bool_array)) * s\n",
        "    return (counts, coords)\n",
        "\n",
        "def show_intersections(a, b, d=None):\n",
        "    d_tmp = d\n",
        "    n = a.ndim  # array number of dimensions == N\n",
        "    m = b.ndim  # rolling window dimensions == M\n",
        "    #\n",
        "    if d_tmp is None:  # step sizes are equal to 1 by default\n",
        "        d_tmp = np.ones(m, dtype=np.uint32)\n",
        "    elif m > n and d_tmp.size == n:  # for m > n case\n",
        "        # Concatenate d_tmp with remaining dimensions\n",
        "        d_tmp = np.concatenate((np.ones(m-n, dtype=int), d_tmp))\n",
        "    #\n",
        "    counts = 0\n",
        "    coords = None\n",
        "    if m <= n:\n",
        "        results = get_results(a, b, d_tmp)  # return previous example\n",
        "        counts = results[0]\n",
        "        coords = results[1]\n",
        "    else:  # if m > n\n",
        "        t = m - n  # excessive dimensions\n",
        "        layers = np.prod(b.shape[:t])  # find number of layers\n",
        "        # Reshape MD array into (N+1)D array.\n",
        "        temp = b.reshape((layers,) + b.shape[t:])\n",
        "        # Get results for every layer in the intersection\n",
        "        for i in range(layers):\n",
        "            results = get_results(a, temp[i], d_tmp[t:])\n",
        "            counts += results[0]\n",
        "            if coords is None:\n",
        "                coords = results[1]\n",
        "            else:\n",
        "                coords = np.concatenate((coords, results[1]))\n",
        "    print(\"Found {counts} elements with coordinates:\\n{coords}\".format(\n",
        "        counts=counts, coords=coords))\n",
        "\n",
        "a = np.array([[ 0,  1,  2,  3,  4,  5,  1],\n",
        "              [ 7,  8,  7,  8, 10, 11,  1],\n",
        "              [13, 14, 13, 14,  7,  8,  1],\n",
        "              [19, 20, 19, 20, 13, 14,  1],\n",
        "              [24, 25, 26, 27, 19, 20,  1]], dtype=np.int)\n",
        "\n",
        "# Should find: 3 elements if dx == 1, dy == 1 \n",
        "#              2 elements if dx == 2, dy == 1\n",
        "b = np.array([[[[19, 20, 13],\n",
        "                [26, 27, 19]],\n",
        "               [[ 1,  2,  0],\n",
        "                [ 3,  4,  0]]],\n",
        "\n",
        "              [[[ 3,  4,  5],\n",
        "                [ 8, 10, 11]],\n",
        "               [[10, 11,  1],\n",
        "                [7,  8,   1]]]], dtype=np.int)\n",
        "\n",
        "show_intersections(a, b)\n",
        "show_intersections(a, b, np.array([2, 1]))\n",
        "\n",
        "# Should find: 1 element if dx == 1, dy == 1\n",
        "print(\"----------\")\n",
        "b = np.array([[19, 20, 13],\n",
        "              [26, 27, 19]], dtype=np.int)\n",
        "show_intersections(a, b)"
      ],
      "execution_count": 10,
      "outputs": [
        {
          "output_type": "stream",
          "text": [
            "Found 3 elements with coordinates:\n",
            "[[3 2]\n",
            " [0 3]\n",
            " [1 4]]\n",
            "Found 2 elements with coordinates:\n",
            "[[3 2]\n",
            " [1 4]]\n",
            "----------\n",
            "Found 1 elements with coordinates:\n",
            "[[3 2]]\n"
          ],
          "name": "stdout"
        }
      ]
    },
    {
      "cell_type": "markdown",
      "metadata": {
        "id": "mwho6E-jBFbG",
        "colab_type": "text"
      },
      "source": [
        "`get_results` function is the same as `show_results` function without significant differences.\n",
        "\n",
        "`show_intersections` function obtains intersections between arrays. If `M <= N` function `show_intersections` just returns `get_results` function. If `M > N` we should find intersection between `b` and `a` arrays. For this get excessive dimensions `t = m - n` between MD `b` array and ND `a` array. And find the number of layers in the intersection between `b` and `a`: `layers = np.prod(b.shape[:t])`.\n",
        "\n",
        "Then reshape `b` array from MD array to (N+1)D array:\n",
        "```python\n",
        "    # Reshape MD array into (N+1)D array.\n",
        "    temp = b.reshape((layers,) + b.shape[t:])\n",
        "```\n",
        "\n",
        "Finally we get results for every layer in the intersection:\n",
        "```python\n",
        "    # Get results for every layer in the intersection\n",
        "    for i in range(layers):\n",
        "        results = get_results(a, temp[i], d_tmp[t:])\n",
        "```\n",
        "\n",
        "and aggregate counts and coordinates of all matches in the `counts` and `coords` variables:\n",
        "\n",
        "```python\n",
        "    # Get results for every layer in the intersection\n",
        "    for i in range(layers):\n",
        "        results = get_results(a, temp[i], d_tmp[t:])\n",
        "        counts += results[0]\n",
        "        if coords is None:\n",
        "            coords = results[1]\n",
        "        else:\n",
        "            coords = np.concatenate((coords, results[1]))\n",
        "```\n"
      ]
    },
    {
      "cell_type": "code",
      "metadata": {
        "id": "sBsCNYoiM4xV",
        "colab_type": "code",
        "colab": {}
      },
      "source": [
        ""
      ],
      "execution_count": 0,
      "outputs": []
    }
  ]
}