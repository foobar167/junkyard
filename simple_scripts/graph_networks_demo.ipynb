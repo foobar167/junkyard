{
  "nbformat": 4,
  "nbformat_minor": 0,
  "metadata": {
    "kernelspec": {
      "display_name": "Python 3",
      "language": "python",
      "name": "python3"
    },
    "language_info": {
      "codemirror_mode": {
        "name": "ipython",
        "version": 3
      },
      "file_extension": ".py",
      "mimetype": "text/x-python",
      "name": "python",
      "nbconvert_exporter": "python",
      "pygments_lexer": "ipython3",
      "version": "3.7.3"
    },
    "colab": {
      "name": "Graph Networks demo.ipynb",
      "provenance": [],
      "collapsed_sections": [],
      "toc_visible": true
    }
  },
  "cells": [
    {
      "cell_type": "markdown",
      "metadata": {
        "id": "u-z033gRIEXa",
        "colab_type": "text"
      },
      "source": [
        "[Video](https://youtu.be/bA261BF0bdk) by  Siraj Raval.\n",
        "\n",
        "[DGL at a Glance](https://docs.dgl.ai/tutorials/basics/1_first.html) documentation. "
      ]
    },
    {
      "cell_type": "code",
      "metadata": {
        "id": "0BLK8OWxHjjI",
        "colab_type": "code",
        "colab": {
          "base_uri": "https://localhost:8080/",
          "height": 182
        },
        "outputId": "10c94162-7122-4dd3-cb7f-81fb5a60f23e"
      },
      "source": [
        "%matplotlib inline\n",
        "\n",
        "# Install DGL package\n",
        "!pip install dgl"
      ],
      "execution_count": 3,
      "outputs": [
        {
          "output_type": "stream",
          "text": [
            "Collecting dgl\n",
            "\u001b[?25l  Downloading https://files.pythonhosted.org/packages/e4/ba/d15ce7fb56958f21d4e9815f96344d92c4982f3fb933a0e987e78cb787e5/dgl-0.4.1-cp36-cp36m-manylinux1_x86_64.whl (2.4MB)\n",
            "\r\u001b[K     |▏                               | 10kB 18.1MB/s eta 0:00:01\r\u001b[K     |▎                               | 20kB 6.3MB/s eta 0:00:01\r\u001b[K     |▍                               | 30kB 8.9MB/s eta 0:00:01\r\u001b[K     |▋                               | 40kB 5.6MB/s eta 0:00:01\r\u001b[K     |▊                               | 51kB 6.8MB/s eta 0:00:01\r\u001b[K     |▉                               | 61kB 8.0MB/s eta 0:00:01\r\u001b[K     |█                               | 71kB 9.1MB/s eta 0:00:01\r\u001b[K     |█▏                              | 81kB 10.1MB/s eta 0:00:01\r\u001b[K     |█▎                              | 92kB 11.2MB/s eta 0:00:01\r\u001b[K     |█▍                              | 102kB 9.0MB/s eta 0:00:01\r\u001b[K     |█▌                              | 112kB 9.0MB/s eta 0:00:01\r\u001b[K     |█▊                              | 122kB 9.0MB/s eta 0:00:01\r\u001b[K     |█▉                              | 133kB 9.0MB/s eta 0:00:01\r\u001b[K     |██                              | 143kB 9.0MB/s eta 0:00:01\r\u001b[K     |██                              | 153kB 9.0MB/s eta 0:00:01\r\u001b[K     |██▎                             | 163kB 9.0MB/s eta 0:00:01\r\u001b[K     |██▍                             | 174kB 9.0MB/s eta 0:00:01\r\u001b[K     |██▌                             | 184kB 9.0MB/s eta 0:00:01\r\u001b[K     |██▋                             | 194kB 9.0MB/s eta 0:00:01\r\u001b[K     |██▉                             | 204kB 9.0MB/s eta 0:00:01\r\u001b[K     |███                             | 215kB 9.0MB/s eta 0:00:01\r\u001b[K     |███                             | 225kB 9.0MB/s eta 0:00:01\r\u001b[K     |███▏                            | 235kB 9.0MB/s eta 0:00:01\r\u001b[K     |███▍                            | 245kB 9.0MB/s eta 0:00:01\r\u001b[K     |███▌                            | 256kB 9.0MB/s eta 0:00:01\r\u001b[K     |███▋                            | 266kB 9.0MB/s eta 0:00:01\r\u001b[K     |███▊                            | 276kB 9.0MB/s eta 0:00:01\r\u001b[K     |████                            | 286kB 9.0MB/s eta 0:00:01\r\u001b[K     |████                            | 296kB 9.0MB/s eta 0:00:01\r\u001b[K     |████▏                           | 307kB 9.0MB/s eta 0:00:01\r\u001b[K     |████▎                           | 317kB 9.0MB/s eta 0:00:01\r\u001b[K     |████▌                           | 327kB 9.0MB/s eta 0:00:01\r\u001b[K     |████▋                           | 337kB 9.0MB/s eta 0:00:01\r\u001b[K     |████▊                           | 348kB 9.0MB/s eta 0:00:01\r\u001b[K     |████▉                           | 358kB 9.0MB/s eta 0:00:01\r\u001b[K     |█████                           | 368kB 9.0MB/s eta 0:00:01\r\u001b[K     |█████▏                          | 378kB 9.0MB/s eta 0:00:01\r\u001b[K     |█████▎                          | 389kB 9.0MB/s eta 0:00:01\r\u001b[K     |█████▍                          | 399kB 9.0MB/s eta 0:00:01\r\u001b[K     |█████▋                          | 409kB 9.0MB/s eta 0:00:01\r\u001b[K     |█████▊                          | 419kB 9.0MB/s eta 0:00:01\r\u001b[K     |█████▉                          | 430kB 9.0MB/s eta 0:00:01\r\u001b[K     |██████                          | 440kB 9.0MB/s eta 0:00:01\r\u001b[K     |██████▏                         | 450kB 9.0MB/s eta 0:00:01\r\u001b[K     |██████▎                         | 460kB 9.0MB/s eta 0:00:01\r\u001b[K     |██████▍                         | 471kB 9.0MB/s eta 0:00:01\r\u001b[K     |██████▌                         | 481kB 9.0MB/s eta 0:00:01\r\u001b[K     |██████▊                         | 491kB 9.0MB/s eta 0:00:01\r\u001b[K     |██████▉                         | 501kB 9.0MB/s eta 0:00:01\r\u001b[K     |███████                         | 512kB 9.0MB/s eta 0:00:01\r\u001b[K     |███████                         | 522kB 9.0MB/s eta 0:00:01\r\u001b[K     |███████▎                        | 532kB 9.0MB/s eta 0:00:01\r\u001b[K     |███████▍                        | 542kB 9.0MB/s eta 0:00:01\r\u001b[K     |███████▌                        | 552kB 9.0MB/s eta 0:00:01\r\u001b[K     |███████▋                        | 563kB 9.0MB/s eta 0:00:01\r\u001b[K     |███████▉                        | 573kB 9.0MB/s eta 0:00:01\r\u001b[K     |████████                        | 583kB 9.0MB/s eta 0:00:01\r\u001b[K     |████████                        | 593kB 9.0MB/s eta 0:00:01\r\u001b[K     |████████▎                       | 604kB 9.0MB/s eta 0:00:01\r\u001b[K     |████████▍                       | 614kB 9.0MB/s eta 0:00:01\r\u001b[K     |████████▌                       | 624kB 9.0MB/s eta 0:00:01\r\u001b[K     |████████▋                       | 634kB 9.0MB/s eta 0:00:01\r\u001b[K     |████████▉                       | 645kB 9.0MB/s eta 0:00:01\r\u001b[K     |█████████                       | 655kB 9.0MB/s eta 0:00:01\r\u001b[K     |█████████                       | 665kB 9.0MB/s eta 0:00:01\r\u001b[K     |█████████▏                      | 675kB 9.0MB/s eta 0:00:01\r\u001b[K     |█████████▍                      | 686kB 9.0MB/s eta 0:00:01\r\u001b[K     |█████████▌                      | 696kB 9.0MB/s eta 0:00:01\r\u001b[K     |█████████▋                      | 706kB 9.0MB/s eta 0:00:01\r\u001b[K     |█████████▊                      | 716kB 9.0MB/s eta 0:00:01\r\u001b[K     |██████████                      | 727kB 9.0MB/s eta 0:00:01\r\u001b[K     |██████████                      | 737kB 9.0MB/s eta 0:00:01\r\u001b[K     |██████████▏                     | 747kB 9.0MB/s eta 0:00:01\r\u001b[K     |██████████▎                     | 757kB 9.0MB/s eta 0:00:01\r\u001b[K     |██████████▌                     | 768kB 9.0MB/s eta 0:00:01\r\u001b[K     |██████████▋                     | 778kB 9.0MB/s eta 0:00:01\r\u001b[K     |██████████▊                     | 788kB 9.0MB/s eta 0:00:01\r\u001b[K     |██████████▉                     | 798kB 9.0MB/s eta 0:00:01\r\u001b[K     |███████████                     | 808kB 9.0MB/s eta 0:00:01\r\u001b[K     |███████████▏                    | 819kB 9.0MB/s eta 0:00:01\r\u001b[K     |███████████▎                    | 829kB 9.0MB/s eta 0:00:01\r\u001b[K     |███████████▍                    | 839kB 9.0MB/s eta 0:00:01\r\u001b[K     |███████████▋                    | 849kB 9.0MB/s eta 0:00:01\r\u001b[K     |███████████▊                    | 860kB 9.0MB/s eta 0:00:01\r\u001b[K     |███████████▉                    | 870kB 9.0MB/s eta 0:00:01\r\u001b[K     |████████████                    | 880kB 9.0MB/s eta 0:00:01\r\u001b[K     |████████████▏                   | 890kB 9.0MB/s eta 0:00:01\r\u001b[K     |████████████▎                   | 901kB 9.0MB/s eta 0:00:01\r\u001b[K     |████████████▍                   | 911kB 9.0MB/s eta 0:00:01\r\u001b[K     |████████████▌                   | 921kB 9.0MB/s eta 0:00:01\r\u001b[K     |████████████▊                   | 931kB 9.0MB/s eta 0:00:01\r\u001b[K     |████████████▉                   | 942kB 9.0MB/s eta 0:00:01\r\u001b[K     |█████████████                   | 952kB 9.0MB/s eta 0:00:01\r\u001b[K     |█████████████                   | 962kB 9.0MB/s eta 0:00:01\r\u001b[K     |█████████████▎                  | 972kB 9.0MB/s eta 0:00:01\r\u001b[K     |█████████████▍                  | 983kB 9.0MB/s eta 0:00:01\r\u001b[K     |█████████████▌                  | 993kB 9.0MB/s eta 0:00:01\r\u001b[K     |█████████████▋                  | 1.0MB 9.0MB/s eta 0:00:01\r\u001b[K     |█████████████▉                  | 1.0MB 9.0MB/s eta 0:00:01\r\u001b[K     |██████████████                  | 1.0MB 9.0MB/s eta 0:00:01\r\u001b[K     |██████████████                  | 1.0MB 9.0MB/s eta 0:00:01\r\u001b[K     |██████████████▏                 | 1.0MB 9.0MB/s eta 0:00:01\r\u001b[K     |██████████████▍                 | 1.1MB 9.0MB/s eta 0:00:01\r\u001b[K     |██████████████▌                 | 1.1MB 9.0MB/s eta 0:00:01\r\u001b[K     |██████████████▋                 | 1.1MB 9.0MB/s eta 0:00:01\r\u001b[K     |██████████████▊                 | 1.1MB 9.0MB/s eta 0:00:01\r\u001b[K     |███████████████                 | 1.1MB 9.0MB/s eta 0:00:01\r\u001b[K     |███████████████                 | 1.1MB 9.0MB/s eta 0:00:01\r\u001b[K     |███████████████▏                | 1.1MB 9.0MB/s eta 0:00:01\r\u001b[K     |███████████████▎                | 1.1MB 9.0MB/s eta 0:00:01\r\u001b[K     |███████████████▌                | 1.1MB 9.0MB/s eta 0:00:01\r\u001b[K     |███████████████▋                | 1.1MB 9.0MB/s eta 0:00:01\r\u001b[K     |███████████████▊                | 1.2MB 9.0MB/s eta 0:00:01\r\u001b[K     |███████████████▉                | 1.2MB 9.0MB/s eta 0:00:01\r\u001b[K     |████████████████                | 1.2MB 9.0MB/s eta 0:00:01\r\u001b[K     |████████████████▏               | 1.2MB 9.0MB/s eta 0:00:01\r\u001b[K     |████████████████▎               | 1.2MB 9.0MB/s eta 0:00:01\r\u001b[K     |████████████████▌               | 1.2MB 9.0MB/s eta 0:00:01\r\u001b[K     |████████████████▋               | 1.2MB 9.0MB/s eta 0:00:01\r\u001b[K     |████████████████▊               | 1.2MB 9.0MB/s eta 0:00:01\r\u001b[K     |████████████████▉               | 1.2MB 9.0MB/s eta 0:00:01\r\u001b[K     |█████████████████               | 1.2MB 9.0MB/s eta 0:00:01\r\u001b[K     |█████████████████▏              | 1.3MB 9.0MB/s eta 0:00:01\r\u001b[K     |█████████████████▎              | 1.3MB 9.0MB/s eta 0:00:01\r\u001b[K     |█████████████████▍              | 1.3MB 9.0MB/s eta 0:00:01\r\u001b[K     |█████████████████▋              | 1.3MB 9.0MB/s eta 0:00:01\r\u001b[K     |█████████████████▊              | 1.3MB 9.0MB/s eta 0:00:01\r\u001b[K     |█████████████████▉              | 1.3MB 9.0MB/s eta 0:00:01\r\u001b[K     |██████████████████              | 1.3MB 9.0MB/s eta 0:00:01\r\u001b[K     |██████████████████▏             | 1.3MB 9.0MB/s eta 0:00:01\r\u001b[K     |██████████████████▎             | 1.3MB 9.0MB/s eta 0:00:01\r\u001b[K     |██████████████████▍             | 1.4MB 9.0MB/s eta 0:00:01\r\u001b[K     |██████████████████▌             | 1.4MB 9.0MB/s eta 0:00:01\r\u001b[K     |██████████████████▊             | 1.4MB 9.0MB/s eta 0:00:01\r\u001b[K     |██████████████████▉             | 1.4MB 9.0MB/s eta 0:00:01\r\u001b[K     |███████████████████             | 1.4MB 9.0MB/s eta 0:00:01\r\u001b[K     |███████████████████             | 1.4MB 9.0MB/s eta 0:00:01\r\u001b[K     |███████████████████▎            | 1.4MB 9.0MB/s eta 0:00:01\r\u001b[K     |███████████████████▍            | 1.4MB 9.0MB/s eta 0:00:01\r\u001b[K     |███████████████████▌            | 1.4MB 9.0MB/s eta 0:00:01\r\u001b[K     |███████████████████▋            | 1.4MB 9.0MB/s eta 0:00:01\r\u001b[K     |███████████████████▉            | 1.5MB 9.0MB/s eta 0:00:01\r\u001b[K     |████████████████████            | 1.5MB 9.0MB/s eta 0:00:01\r\u001b[K     |████████████████████            | 1.5MB 9.0MB/s eta 0:00:01\r\u001b[K     |████████████████████▏           | 1.5MB 9.0MB/s eta 0:00:01\r\u001b[K     |████████████████████▍           | 1.5MB 9.0MB/s eta 0:00:01\r\u001b[K     |████████████████████▌           | 1.5MB 9.0MB/s eta 0:00:01\r\u001b[K     |████████████████████▋           | 1.5MB 9.0MB/s eta 0:00:01\r\u001b[K     |████████████████████▊           | 1.5MB 9.0MB/s eta 0:00:01\r\u001b[K     |█████████████████████           | 1.5MB 9.0MB/s eta 0:00:01\r\u001b[K     |█████████████████████           | 1.5MB 9.0MB/s eta 0:00:01\r\u001b[K     |█████████████████████▏          | 1.6MB 9.0MB/s eta 0:00:01\r\u001b[K     |█████████████████████▎          | 1.6MB 9.0MB/s eta 0:00:01\r\u001b[K     |█████████████████████▌          | 1.6MB 9.0MB/s eta 0:00:01\r\u001b[K     |█████████████████████▋          | 1.6MB 9.0MB/s eta 0:00:01\r\u001b[K     |█████████████████████▊          | 1.6MB 9.0MB/s eta 0:00:01\r\u001b[K     |█████████████████████▉          | 1.6MB 9.0MB/s eta 0:00:01\r\u001b[K     |██████████████████████          | 1.6MB 9.0MB/s eta 0:00:01\r\u001b[K     |██████████████████████▏         | 1.6MB 9.0MB/s eta 0:00:01\r\u001b[K     |██████████████████████▎         | 1.6MB 9.0MB/s eta 0:00:01\r\u001b[K     |██████████████████████▍         | 1.6MB 9.0MB/s eta 0:00:01\r\u001b[K     |██████████████████████▋         | 1.7MB 9.0MB/s eta 0:00:01\r\u001b[K     |██████████████████████▊         | 1.7MB 9.0MB/s eta 0:00:01\r\u001b[K     |██████████████████████▉         | 1.7MB 9.0MB/s eta 0:00:01\r\u001b[K     |███████████████████████         | 1.7MB 9.0MB/s eta 0:00:01\r\u001b[K     |███████████████████████▏        | 1.7MB 9.0MB/s eta 0:00:01\r\u001b[K     |███████████████████████▎        | 1.7MB 9.0MB/s eta 0:00:01\r\u001b[K     |███████████████████████▍        | 1.7MB 9.0MB/s eta 0:00:01\r\u001b[K     |███████████████████████▌        | 1.7MB 9.0MB/s eta 0:00:01\r\u001b[K     |███████████████████████▊        | 1.7MB 9.0MB/s eta 0:00:01\r\u001b[K     |███████████████████████▉        | 1.8MB 9.0MB/s eta 0:00:01\r\u001b[K     |████████████████████████        | 1.8MB 9.0MB/s eta 0:00:01\r\u001b[K     |████████████████████████        | 1.8MB 9.0MB/s eta 0:00:01\r\u001b[K     |████████████████████████▎       | 1.8MB 9.0MB/s eta 0:00:01\r\u001b[K     |████████████████████████▍       | 1.8MB 9.0MB/s eta 0:00:01\r\u001b[K     |████████████████████████▌       | 1.8MB 9.0MB/s eta 0:00:01\r\u001b[K     |████████████████████████▊       | 1.8MB 9.0MB/s eta 0:00:01\r\u001b[K     |████████████████████████▉       | 1.8MB 9.0MB/s eta 0:00:01\r\u001b[K     |█████████████████████████       | 1.8MB 9.0MB/s eta 0:00:01\r\u001b[K     |█████████████████████████       | 1.8MB 9.0MB/s eta 0:00:01\r\u001b[K     |█████████████████████████▎      | 1.9MB 9.0MB/s eta 0:00:01\r\u001b[K     |█████████████████████████▍      | 1.9MB 9.0MB/s eta 0:00:01\r\u001b[K     |█████████████████████████▌      | 1.9MB 9.0MB/s eta 0:00:01\r\u001b[K     |█████████████████████████▋      | 1.9MB 9.0MB/s eta 0:00:01\r\u001b[K     |█████████████████████████▉      | 1.9MB 9.0MB/s eta 0:00:01\r\u001b[K     |██████████████████████████      | 1.9MB 9.0MB/s eta 0:00:01\r\u001b[K     |██████████████████████████      | 1.9MB 9.0MB/s eta 0:00:01\r\u001b[K     |██████████████████████████▏     | 1.9MB 9.0MB/s eta 0:00:01\r\u001b[K     |██████████████████████████▍     | 1.9MB 9.0MB/s eta 0:00:01\r\u001b[K     |██████████████████████████▌     | 1.9MB 9.0MB/s eta 0:00:01\r\u001b[K     |██████████████████████████▋     | 2.0MB 9.0MB/s eta 0:00:01\r\u001b[K     |██████████████████████████▊     | 2.0MB 9.0MB/s eta 0:00:01\r\u001b[K     |███████████████████████████     | 2.0MB 9.0MB/s eta 0:00:01\r\u001b[K     |███████████████████████████     | 2.0MB 9.0MB/s eta 0:00:01\r\u001b[K     |███████████████████████████▏    | 2.0MB 9.0MB/s eta 0:00:01\r\u001b[K     |███████████████████████████▎    | 2.0MB 9.0MB/s eta 0:00:01\r\u001b[K     |███████████████████████████▌    | 2.0MB 9.0MB/s eta 0:00:01\r\u001b[K     |███████████████████████████▋    | 2.0MB 9.0MB/s eta 0:00:01\r\u001b[K     |███████████████████████████▊    | 2.0MB 9.0MB/s eta 0:00:01\r\u001b[K     |███████████████████████████▉    | 2.0MB 9.0MB/s eta 0:00:01\r\u001b[K     |████████████████████████████    | 2.1MB 9.0MB/s eta 0:00:01\r\u001b[K     |████████████████████████████▏   | 2.1MB 9.0MB/s eta 0:00:01\r\u001b[K     |████████████████████████████▎   | 2.1MB 9.0MB/s eta 0:00:01\r\u001b[K     |████████████████████████████▍   | 2.1MB 9.0MB/s eta 0:00:01\r\u001b[K     |████████████████████████████▋   | 2.1MB 9.0MB/s eta 0:00:01\r\u001b[K     |████████████████████████████▊   | 2.1MB 9.0MB/s eta 0:00:01\r\u001b[K     |████████████████████████████▉   | 2.1MB 9.0MB/s eta 0:00:01\r\u001b[K     |█████████████████████████████   | 2.1MB 9.0MB/s eta 0:00:01\r\u001b[K     |█████████████████████████████▏  | 2.1MB 9.0MB/s eta 0:00:01\r\u001b[K     |█████████████████████████████▎  | 2.2MB 9.0MB/s eta 0:00:01\r\u001b[K     |█████████████████████████████▍  | 2.2MB 9.0MB/s eta 0:00:01\r\u001b[K     |█████████████████████████████▌  | 2.2MB 9.0MB/s eta 0:00:01\r\u001b[K     |█████████████████████████████▊  | 2.2MB 9.0MB/s eta 0:00:01\r\u001b[K     |█████████████████████████████▉  | 2.2MB 9.0MB/s eta 0:00:01\r\u001b[K     |██████████████████████████████  | 2.2MB 9.0MB/s eta 0:00:01\r\u001b[K     |██████████████████████████████  | 2.2MB 9.0MB/s eta 0:00:01\r\u001b[K     |██████████████████████████████▎ | 2.2MB 9.0MB/s eta 0:00:01\r\u001b[K     |██████████████████████████████▍ | 2.2MB 9.0MB/s eta 0:00:01\r\u001b[K     |██████████████████████████████▌ | 2.2MB 9.0MB/s eta 0:00:01\r\u001b[K     |██████████████████████████████▋ | 2.3MB 9.0MB/s eta 0:00:01\r\u001b[K     |██████████████████████████████▉ | 2.3MB 9.0MB/s eta 0:00:01\r\u001b[K     |███████████████████████████████ | 2.3MB 9.0MB/s eta 0:00:01\r\u001b[K     |███████████████████████████████ | 2.3MB 9.0MB/s eta 0:00:01\r\u001b[K     |███████████████████████████████▏| 2.3MB 9.0MB/s eta 0:00:01\r\u001b[K     |███████████████████████████████▍| 2.3MB 9.0MB/s eta 0:00:01\r\u001b[K     |███████████████████████████████▌| 2.3MB 9.0MB/s eta 0:00:01\r\u001b[K     |███████████████████████████████▋| 2.3MB 9.0MB/s eta 0:00:01\r\u001b[K     |███████████████████████████████▊| 2.3MB 9.0MB/s eta 0:00:01\r\u001b[K     |████████████████████████████████| 2.3MB 9.0MB/s eta 0:00:01\r\u001b[K     |████████████████████████████████| 2.4MB 9.0MB/s \n",
            "\u001b[?25hRequirement already satisfied: numpy>=1.14.0 in /usr/local/lib/python3.6/dist-packages (from dgl) (1.17.5)\n",
            "Requirement already satisfied: scipy>=1.1.0 in /usr/local/lib/python3.6/dist-packages (from dgl) (1.4.1)\n",
            "Requirement already satisfied: networkx>=2.1 in /usr/local/lib/python3.6/dist-packages (from dgl) (2.4)\n",
            "Requirement already satisfied: decorator>=4.3.0 in /usr/local/lib/python3.6/dist-packages (from networkx>=2.1->dgl) (4.4.1)\n",
            "Installing collected packages: dgl\n",
            "Successfully installed dgl-0.4.1\n"
          ],
          "name": "stdout"
        }
      ]
    },
    {
      "cell_type": "markdown",
      "metadata": {
        "id": "3vk9wIE6HjjX",
        "colab_type": "text"
      },
      "source": [
        "\n",
        ".. currentmodule:: dgl\n",
        "\n",
        "DGL at a Glance\n",
        "=========================\n",
        "\n",
        "**Author**: `Minjie Wang <https://jermainewang.github.io/>`_, Quan Gan, `Jake\n",
        "Zhao <https://cs.nyu.edu/~jakezhao/>`_, Zheng Zhang\n",
        "\n",
        "DGL is a Python package dedicated to deep learning on graphs, built atop\n",
        "existing tensor DL frameworks (e.g. Pytorch, MXNet) and simplifying the\n",
        "implementation of graph-based neural networks.\n",
        "\n",
        "The goal of this tutorial:\n",
        "\n",
        "- Understand how DGL enables computation on graph from a high level.\n",
        "- Train a simple graph neural network in DGL to classify nodes in a graph.\n",
        "\n",
        "At the end of this tutorial, we hope you get a brief feeling of how DGL works.\n",
        "\n",
        "*This tutorial assumes basic familiarity with pytorch.*\n"
      ]
    },
    {
      "cell_type": "markdown",
      "metadata": {
        "id": "D5fbSpACHjjb",
        "colab_type": "text"
      },
      "source": [
        "Tutorial problem description\n",
        "----------------------------\n",
        "\n",
        "The tutorial is based on the \"Zachary's karate club\" problem. The karate club\n",
        "is a social network that includes 34 members and documents pairwise links\n",
        "between members who interact outside the club.  The club later divides into\n",
        "two communities led by the instructor (node 0) and the club president (node\n",
        "33). The network is visualized as follows with the color indicating the\n",
        "community:\n",
        "\n",
        "![](https://s3.us-east-2.amazonaws.com/dgl.ai/tutorial/img/karate-club.png)\n",
        "\n",
        "   :align: center\n",
        "\n",
        "The task is to predict which side (0 or 33) each member tends to join given\n",
        "the social network itself.\n",
        "\n"
      ]
    },
    {
      "cell_type": "markdown",
      "metadata": {
        "id": "taYAc_5aHjje",
        "colab_type": "text"
      },
      "source": [
        "Step 1: Creating a graph in DGL\n",
        "-------------------------------\n",
        "Create the graph for Zachary's karate club as follows:\n",
        "\n"
      ]
    },
    {
      "cell_type": "code",
      "metadata": {
        "id": "gf4LZP20Hjjg",
        "colab_type": "code",
        "colab": {}
      },
      "source": [
        "import dgl\n",
        "\n",
        "def build_karate_club_graph():\n",
        "    g = dgl.DGLGraph()\n",
        "    # add 34 nodes into the graph; nodes are labeled from 0~33\n",
        "    g.add_nodes(34)\n",
        "    # all 78 edges as a list of tuples\n",
        "    edge_list = [(1, 0), (2, 0), (2, 1), (3, 0), (3, 1), (3, 2),\n",
        "        (4, 0), (5, 0), (6, 0), (6, 4), (6, 5), (7, 0), (7, 1),\n",
        "        (7, 2), (7, 3), (8, 0), (8, 2), (9, 2), (10, 0), (10, 4),\n",
        "        (10, 5), (11, 0), (12, 0), (12, 3), (13, 0), (13, 1), (13, 2),\n",
        "        (13, 3), (16, 5), (16, 6), (17, 0), (17, 1), (19, 0), (19, 1),\n",
        "        (21, 0), (21, 1), (25, 23), (25, 24), (27, 2), (27, 23),\n",
        "        (27, 24), (28, 2), (29, 23), (29, 26), (30, 1), (30, 8),\n",
        "        (31, 0), (31, 24), (31, 25), (31, 28), (32, 2), (32, 8),\n",
        "        (32, 14), (32, 15), (32, 18), (32, 20), (32, 22), (32, 23),\n",
        "        (32, 29), (32, 30), (32, 31), (33, 8), (33, 9), (33, 13),\n",
        "        (33, 14), (33, 15), (33, 18), (33, 19), (33, 20), (33, 22),\n",
        "        (33, 23), (33, 26), (33, 27), (33, 28), (33, 29), (33, 30),\n",
        "        (33, 31), (33, 32)]\n",
        "    # add edges to two lists of nodes: src and dst\n",
        "    src, dst = tuple(zip(*edge_list))\n",
        "    g.add_edges(src, dst)\n",
        "    # edges are directional in DGL; make them bi-directional\n",
        "    g.add_edges(dst, src)\n",
        "\n",
        "    return g\n"
      ],
      "execution_count": 0,
      "outputs": []
    },
    {
      "cell_type": "markdown",
      "metadata": {
        "id": "fAYK0jGzHjjp",
        "colab_type": "text"
      },
      "source": [
        "Print out the number of nodes and edges in our newly constructed graph:\n",
        "\n"
      ]
    },
    {
      "cell_type": "code",
      "metadata": {
        "id": "EGPKk54EHjjs",
        "colab_type": "code",
        "colab": {
          "base_uri": "https://localhost:8080/",
          "height": 54
        },
        "outputId": "a05a9e6b-5549-41a9-a163-025d84557856"
      },
      "source": [
        "G = build_karate_club_graph()\n",
        "print('We have %d nodes.' % G.number_of_nodes())\n",
        "print('We have %d edges.' % G.number_of_edges())"
      ],
      "execution_count": 8,
      "outputs": [
        {
          "output_type": "stream",
          "text": [
            "We have 34 nodes.\n",
            "We have 156 edges.\n"
          ],
          "name": "stdout"
        }
      ]
    },
    {
      "cell_type": "markdown",
      "metadata": {
        "id": "-Prr-2ddHjj7",
        "colab_type": "text"
      },
      "source": [
        "Visualize the graph by converting it to a `networkx\n",
        "<https://networkx.github.io/documentation/stable/>`_ graph:\n",
        "\n"
      ]
    },
    {
      "cell_type": "code",
      "metadata": {
        "id": "ke5xa9AVHjkE",
        "colab_type": "code",
        "colab": {
          "base_uri": "https://localhost:8080/",
          "height": 319
        },
        "outputId": "ea5d556d-6ee9-4c48-d1fd-ce26e626cb27"
      },
      "source": [
        "import networkx as nx\n",
        "# Since the actual graph is undirected, we convert it for visualization purpose.\n",
        "nx_G = G.to_networkx().to_undirected()\n",
        "# Kamada-Kawaii layout usually looks pretty for arbitrary graphs\n",
        "pos = nx.kamada_kawai_layout(nx_G)\n",
        "nx.draw(nx_G, pos, with_labels=True, node_color=[[.7, .7, .7]])"
      ],
      "execution_count": 9,
      "outputs": [
        {
          "output_type": "display_data",
          "data": {
            "image/png": "[encoded data removed]",
            "text/plain": [
              "<Figure size 432x288 with 1 Axes>"
            ]
          },
          "metadata": {
            "tags": []
          }
        }
      ]
    },
    {
      "cell_type": "markdown",
      "metadata": {
        "id": "l1T1k8hEHjkN",
        "colab_type": "text"
      },
      "source": [
        "Step 2: Assign features to nodes or edges\n",
        "--------------------------------------------\n",
        "Graph neural networks associate features with nodes and edges for training.\n",
        "For our classification example, we assign each node an input feature as a one-hot vector:\n",
        "node $v_i$'s feature vector is $[0,\\ldots,1,\\dots,0]$,\n",
        "where the $i^{th}$ position is one.\n",
        "\n",
        "In DGL, you can add features for all nodes at once, using a feature tensor that\n",
        "batches node features along the first dimension. The code below adds the one-hot\n",
        "feature for all nodes:\n",
        "\n"
      ]
    },
    {
      "cell_type": "code",
      "metadata": {
        "id": "RTwEVdGUHjkQ",
        "colab_type": "code",
        "colab": {}
      },
      "source": [
        "import torch\n",
        "\n",
        "G.ndata['feat'] = torch.eye(34)"
      ],
      "execution_count": 0,
      "outputs": []
    },
    {
      "cell_type": "markdown",
      "metadata": {
        "id": "RwW8p5BdHjkY",
        "colab_type": "text"
      },
      "source": [
        "Print out the node features to verify:\n",
        "\n"
      ]
    },
    {
      "cell_type": "code",
      "metadata": {
        "id": "vSiBTQmQHjka",
        "colab_type": "code",
        "colab": {
          "base_uri": "https://localhost:8080/",
          "height": 127
        },
        "outputId": "e94aefa8-51f9-43e4-85f4-59eb9643bcc5"
      },
      "source": [
        "# print out node 2's input feature\n",
        "print(G.nodes[2].data['feat'])\n",
        "\n",
        "# print out node 10 and 11's input features\n",
        "print(G.nodes[[10, 11]].data['feat'])"
      ],
      "execution_count": 11,
      "outputs": [
        {
          "output_type": "stream",
          "text": [
            "tensor([[0., 0., 1., 0., 0., 0., 0., 0., 0., 0., 0., 0., 0., 0., 0., 0., 0., 0.,\n",
            "         0., 0., 0., 0., 0., 0., 0., 0., 0., 0., 0., 0., 0., 0., 0., 0.]])\n",
            "tensor([[0., 0., 0., 0., 0., 0., 0., 0., 0., 0., 1., 0., 0., 0., 0., 0., 0., 0.,\n",
            "         0., 0., 0., 0., 0., 0., 0., 0., 0., 0., 0., 0., 0., 0., 0., 0.],\n",
            "        [0., 0., 0., 0., 0., 0., 0., 0., 0., 0., 0., 1., 0., 0., 0., 0., 0., 0.,\n",
            "         0., 0., 0., 0., 0., 0., 0., 0., 0., 0., 0., 0., 0., 0., 0., 0.]])\n"
          ],
          "name": "stdout"
        }
      ]
    },
    {
      "cell_type": "markdown",
      "metadata": {
        "id": "f49q0rBbHjkm",
        "colab_type": "text"
      },
      "source": [
        "Step 3: Define a Graph Convolutional Network (GCN)\n",
        "--------------------------------------------------\n",
        "To perform node classification, use the Graph Convolutional Network\n",
        "(GCN) developed by `Kipf and Welling <https://arxiv.org/abs/1609.02907>`_. Here\n",
        "is the simplest definition of a GCN framework. We recommend that you \n",
        "read the original paper for more details.\n",
        "\n",
        "- At layer $l$, each node $v_i^l$ carries a feature vector $h_i^l$.\n",
        "- Each layer of the GCN tries to aggregate the features from $u_i^{l}$ where\n",
        "  $u_i$'s are neighborhood nodes to $v$ into the next layer representation at\n",
        "  $v_i^{l+1}$. This is followed by an affine transformation with some\n",
        "  non-linearity.\n",
        "\n",
        "The above definition of GCN fits into a **message-passing** paradigm: Each\n",
        "node will update its own feature with information sent from neighboring\n",
        "nodes. A graphical demonstration is displayed below.\n",
        "\n",
        "![mailbox](https://s3.us-east-2.amazonaws.com/dgl.ai/tutorial/1_first/mailbox.png)\n",
        "\n",
        "Now, we show that the GCN layer can be easily implemented in DGL.\n",
        "\n"
      ]
    },
    {
      "cell_type": "code",
      "metadata": {
        "id": "-nK9xD6aHjko",
        "colab_type": "code",
        "colab": {}
      },
      "source": [
        "import torch.nn as nn\n",
        "import torch.nn.functional as F\n",
        "\n",
        "# Define the message and reduce function\n",
        "# NOTE: We ignore the GCN's normalization constant c_ij for this tutorial.\n",
        "def gcn_message(edges):\n",
        "    # The argument is a batch of edges.\n",
        "    # This computes a (batch of) message called 'msg' using the source node's feature 'h'.\n",
        "    return {'msg' : edges.src['h']}\n",
        "\n",
        "def gcn_reduce(nodes):\n",
        "    # The argument is a batch of nodes.\n",
        "    # This computes the new 'h' features by summing received 'msg' in each node's mailbox.\n",
        "    return {'h' : torch.sum(nodes.mailbox['msg'], dim=1)}\n",
        "\n",
        "# Define the GCNLayer module\n",
        "class GCNLayer(nn.Module):\n",
        "    def __init__(self, in_feats, out_feats):\n",
        "        super(GCNLayer, self).__init__()\n",
        "        self.linear = nn.Linear(in_feats, out_feats)\n",
        "\n",
        "    def forward(self, g, inputs):\n",
        "        # g is the graph and the inputs is the input node features\n",
        "        # first set the node features\n",
        "        g.ndata['h'] = inputs\n",
        "        # trigger message passing on all edges \n",
        "        g.send(g.edges(), gcn_message)\n",
        "        # trigger aggregation at all nodes\n",
        "        g.recv(g.nodes(), gcn_reduce)\n",
        "        # get the result node features\n",
        "        h = g.ndata.pop('h')\n",
        "        # perform linear transformation\n",
        "        return self.linear(h)\n"
      ],
      "execution_count": 0,
      "outputs": []
    },
    {
      "cell_type": "markdown",
      "metadata": {
        "id": "6eo18zDVHjkx",
        "colab_type": "text"
      },
      "source": [
        "In general, the nodes send information computed via the *message functions*,\n",
        "and aggregate incoming information with the *reduce functions*.\n",
        "\n",
        "Define a deeper GCN model that contains two GCN layers:\n",
        "\n"
      ]
    },
    {
      "cell_type": "code",
      "metadata": {
        "id": "cIn37mliHjk0",
        "colab_type": "code",
        "colab": {}
      },
      "source": [
        "# Define a 2-layer GCN model\n",
        "class GCN(nn.Module):\n",
        "    def __init__(self, in_feats, hidden_size, num_classes):\n",
        "        super(GCN, self).__init__()\n",
        "        self.gcn1 = GCNLayer(in_feats, hidden_size)\n",
        "        self.gcn2 = GCNLayer(hidden_size, num_classes)\n",
        "\n",
        "    def forward(self, g, inputs):\n",
        "        h = self.gcn1(g, inputs)\n",
        "        h = torch.relu(h)\n",
        "        h = self.gcn2(g, h)\n",
        "        return h\n",
        "# The first layer transforms input features of size of 34 to a hidden size of 5.\n",
        "# The second layer transforms the hidden layer and produces output features of\n",
        "# size 2, corresponding to the two groups of the karate club.\n",
        "net = GCN(34, 5, 2)"
      ],
      "execution_count": 0,
      "outputs": []
    },
    {
      "cell_type": "markdown",
      "metadata": {
        "id": "ZkNql6-oHjk7",
        "colab_type": "text"
      },
      "source": [
        "Step 4: Data preparation and initialization\n",
        "-------------------------------------------\n",
        "\n",
        "We use one-hot vectors to initialize the node features. Since this is a\n",
        "semi-supervised setting, only the instructor (node 0) and the club president\n",
        "(node 33) are assigned labels. The implementation is available as follow.\n",
        "\n"
      ]
    },
    {
      "cell_type": "code",
      "metadata": {
        "id": "BkBaG24MHjk9",
        "colab_type": "code",
        "colab": {}
      },
      "source": [
        "inputs = torch.eye(34)\n",
        "labeled_nodes = torch.tensor([0, 33])  # only the instructor and the president nodes are labeled\n",
        "labels = torch.tensor([0, 1])  # their labels are different"
      ],
      "execution_count": 0,
      "outputs": []
    },
    {
      "cell_type": "markdown",
      "metadata": {
        "id": "unM1g8v8HjlD",
        "colab_type": "text"
      },
      "source": [
        "Step 5: Train then visualize\n",
        "----------------------------\n",
        "The training loop is exactly the same as other PyTorch models.\n",
        "We (1) create an optimizer, (2) feed the inputs to the model,\n",
        "(3) calculate the loss and (4) use autograd to optimize the model.\n",
        "\n"
      ]
    },
    {
      "cell_type": "code",
      "metadata": {
        "id": "kFOpzC2MHjlF",
        "colab_type": "code",
        "colab": {
          "base_uri": "https://localhost:8080/",
          "height": 568
        },
        "outputId": "f1715995-1d3c-4996-a330-530c54a601e2"
      },
      "source": [
        "optimizer = torch.optim.Adam(net.parameters(), lr=0.01)\n",
        "all_logits = []\n",
        "for epoch in range(30):\n",
        "    logits = net(G, inputs)\n",
        "    # we save the logits for visualization later\n",
        "    all_logits.append(logits.detach())\n",
        "    logp = F.log_softmax(logits, 1)\n",
        "    # we only compute loss for labeled nodes\n",
        "    loss = F.nll_loss(logp[labeled_nodes], labels)\n",
        "\n",
        "    optimizer.zero_grad()\n",
        "    loss.backward()\n",
        "    optimizer.step()\n",
        "\n",
        "    print('Epoch %d | Loss: %.4f' % (epoch, loss.item()))"
      ],
      "execution_count": 15,
      "outputs": [
        {
          "output_type": "stream",
          "text": [
            "Epoch 0 | Loss: 0.8695\n",
            "Epoch 1 | Loss: 0.6759\n",
            "Epoch 2 | Loss: 0.5529\n",
            "Epoch 3 | Loss: 0.4566\n",
            "Epoch 4 | Loss: 0.3817\n",
            "Epoch 5 | Loss: 0.3104\n",
            "Epoch 6 | Loss: 0.2452\n",
            "Epoch 7 | Loss: 0.1884\n",
            "Epoch 8 | Loss: 0.1415\n",
            "Epoch 9 | Loss: 0.1044\n",
            "Epoch 10 | Loss: 0.0759\n",
            "Epoch 11 | Loss: 0.0548\n",
            "Epoch 12 | Loss: 0.0394\n",
            "Epoch 13 | Loss: 0.0282\n",
            "Epoch 14 | Loss: 0.0200\n",
            "Epoch 15 | Loss: 0.0143\n",
            "Epoch 16 | Loss: 0.0103\n",
            "Epoch 17 | Loss: 0.0075\n",
            "Epoch 18 | Loss: 0.0055\n",
            "Epoch 19 | Loss: 0.0041\n",
            "Epoch 20 | Loss: 0.0031\n",
            "Epoch 21 | Loss: 0.0024\n",
            "Epoch 22 | Loss: 0.0019\n",
            "Epoch 23 | Loss: 0.0015\n",
            "Epoch 24 | Loss: 0.0012\n",
            "Epoch 25 | Loss: 0.0009\n",
            "Epoch 26 | Loss: 0.0007\n",
            "Epoch 27 | Loss: 0.0006\n",
            "Epoch 28 | Loss: 0.0005\n",
            "Epoch 29 | Loss: 0.0004\n"
          ],
          "name": "stdout"
        }
      ]
    },
    {
      "cell_type": "markdown",
      "metadata": {
        "id": "BJUjnpCgHjlL",
        "colab_type": "text"
      },
      "source": [
        "This is a rather toy example, so it does not even have a validation or test\n",
        "set. Instead, Since the model produces an output feature of size 2 for each node, we can\n",
        "visualize by plotting the output feature in a 2D space.\n",
        "The following code animates the training process from initial guess\n",
        "(where the nodes are not classified correctly at all) to the end\n",
        "(where the nodes are linearly separable).\n",
        "\n"
      ]
    },
    {
      "cell_type": "code",
      "metadata": {
        "id": "N4kX-X9fHjlN",
        "colab_type": "code",
        "colab": {}
      },
      "source": [
        "import matplotlib.animation as animation\n",
        "import matplotlib.pyplot as plt\n",
        "\n",
        "def draw(i):\n",
        "    cls1color = '#00FFFF'\n",
        "    cls2color = '#FF00FF'\n",
        "    pos = {}\n",
        "    colors = []\n",
        "    for v in range(34):\n",
        "        pos[v] = all_logits[i][v].numpy()\n",
        "        cls = pos[v].argmax()\n",
        "        colors.append(cls1color if cls else cls2color)\n",
        "    ax.cla()\n",
        "    ax.axis('off')\n",
        "    ax.set_title('Epoch: %d' % i)\n",
        "    nx.draw_networkx(nx_G.to_undirected(), pos, node_color=colors,\n",
        "                     with_labels=True, node_size=300, ax=ax)\n",
        "\n",
        "fig = plt.figure(dpi=150)\n",
        "fig.clf()\n",
        "ax = fig.subplots()\n",
        "draw(0)  # draw the prediction of the first epoch\n",
        "plt.close()"
      ],
      "execution_count": 0,
      "outputs": []
    },
    {
      "cell_type": "markdown",
      "metadata": {
        "id": "3GANRO6KHjlU",
        "colab_type": "text"
      },
      "source": [
        "![](https://s3.us-east-2.amazonaws.com/dgl.ai/tutorial/1_first/karate0.png)\n",
        "\n",
        "   :height: 300px\n",
        "   :width: 400px\n",
        "   :align: center\n",
        "\n"
      ]
    },
    {
      "cell_type": "markdown",
      "metadata": {
        "id": "bfGZjcPyHjlW",
        "colab_type": "text"
      },
      "source": [
        "The following animation shows how the model correctly predicts the community\n",
        "after a series of training epochs.\n",
        "\n"
      ]
    },
    {
      "cell_type": "code",
      "metadata": {
        "id": "UXgA1HdZHjlZ",
        "colab_type": "code",
        "colab": {}
      },
      "source": [
        "ani = animation.FuncAnimation(fig, draw, frames=len(all_logits), interval=200)"
      ],
      "execution_count": 0,
      "outputs": []
    },
    {
      "cell_type": "markdown",
      "metadata": {
        "id": "hqLNliArHjli",
        "colab_type": "text"
      },
      "source": [
        "[](https://s3.us-east-2.amazonaws.com/dgl.ai/tutorial/1_first/karate.gif)\n",
        "\n",
        "   :height: 300px\n",
        "   :width: 400px\n",
        "   :align: center\n",
        "\n"
      ]
    },
    {
      "cell_type": "markdown",
      "metadata": {
        "id": "RX8GODxKHjlk",
        "colab_type": "text"
      },
      "source": [
        "Next steps\n",
        "----------\n",
        "\n",
        "In the :doc:`next tutorial <2_basics>`, we will go through some more basics\n",
        "of DGL, such as reading and writing node/edge features.\n",
        "\n"
      ]
    },
    {
      "cell_type": "code",
      "metadata": {
        "id": "M4eDrCYRRGkj",
        "colab_type": "code",
        "colab": {}
      },
      "source": [
        ""
      ],
      "execution_count": 0,
      "outputs": []
    }
  ]
}