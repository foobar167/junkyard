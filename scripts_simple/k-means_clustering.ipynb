{
  "nbformat": 4,
  "nbformat_minor": 0,
  "metadata": {
    "colab": {
      "provenance": [],
      "collapsed_sections": []
    },
    "kernelspec": {
      "name": "python3",
      "display_name": "Python 3"
    },
    "language_info": {
      "name": "python"
    }
  },
  "cells": [
    {
      "cell_type": "markdown",
      "source": [
        "# K-Means Clustering in Python\n",
        "[Original practical guide](https://realpython.com/k-means-clustering-python)\n",
        "\n",
        "[StackOverflow discussion](https://stackoverflow.com/a/62445280/7550928)"
      ],
      "metadata": {
        "id": "UYZPD3KiPmK7"
      }
    },
    {
      "cell_type": "markdown",
      "source": [
        "## Elbow method and K-means"
      ],
      "metadata": {
        "id": "dWvFUMe3RA40"
      }
    },
    {
      "cell_type": "code",
      "execution_count": null,
      "metadata": {
        "colab": {
          "base_uri": "https://localhost:8080/",
          "height": 543
        },
        "id": "1xX7lTVhNmfT",
        "outputId": "96971ae7-8519-41c2-9942-b6dea51598cc"
      },
      "outputs": [
        {
          "output_type": "display_data",
          "data": {
            "text/plain": [
              "<Figure size 432x288 with 1 Axes>"
            ],
            "image/png": "[encoded data removed]"
          },
          "metadata": {
            "needs_background": "light"
          }
        },
        {
          "output_type": "display_data",
          "data": {
            "text/plain": [
              "<Figure size 432x288 with 1 Axes>"
            ],
            "image/png": "[encoded data removed]"
          },
          "metadata": {
            "needs_background": "light"
          }
        }
      ],
      "source": [
        "import numpy as np\n",
        "import matplotlib.pyplot as plt\n",
        "\n",
        "from sklearn.cluster import KMeans\n",
        "\n",
        "\n",
        "data=np.array([[1,1],[1,2],[2,1.5],                 # cluster 1\n",
        "               [4,5],[5,6],[4,5.5],[5,5],           # cluster 2\n",
        "               [8,8],[8,8.5],[9,8],[8.5,9],[9,9]])  # cluster 3\n",
        "\n",
        "\n",
        "def find_best_k():\n",
        "    sum_of_squared_distances = []\n",
        "    K = range(1, 8)  # total of 8 clusters\n",
        "    for k in K:\n",
        "        km=KMeans(n_clusters=k)\n",
        "        km=km.fit(data)\n",
        "        sum_of_squared_distances.append(km.inertia_)\n",
        "    plt.plot(K, sum_of_squared_distances, 'bx-')\n",
        "    plt.xlabel('k')\n",
        "    plt.ylabel('sum_of_squared_distances')\n",
        "    plt.title('Elbow method for optimal k')\n",
        "    plt.show()\n",
        "    # The plot looks like an arm, and the elbow on the arm is the optimal k\n",
        "\n",
        "\n",
        "def run_kmeans(k, data):  # k is the optimal number of clusters\n",
        "    km=KMeans(n_clusters=k)\n",
        "    km=km.fit(data)\n",
        "    centroids = km.cluster_centers_  # get the center of clusters\n",
        "    #print(centroids)\n",
        "    return centroids\n",
        "\n",
        "\n",
        "def plotresults():\n",
        "    centroids=run_kmeans(3, data)  # in this example data has 3 optimal number of clusters\n",
        "    plt.plot(data[0:3,0],  data[0:3,1],  'ro',  # red cluster\n",
        "             data[3:7,0],  data[3:7,1],  'bo',  # blue cluster\n",
        "             data[7:12,0], data[7:12,1], 'go')  # green cluster\n",
        "    for i in range(3):\n",
        "        plt.plot(centroids[i,0], centroids[i,1], 'k*')  # show black star ★\n",
        "        plt.text(centroids[i,0], centroids[i,1], 'c'+str(i), fontsize=12)  # show 'ci'\n",
        "\n",
        "\n",
        "find_best_k()\n",
        "plotresults()"
      ]
    },
    {
      "cell_type": "code",
      "source": [],
      "metadata": {
        "id": "q4num8kLTxoj"
      },
      "execution_count": null,
      "outputs": []
    }
  ]
}